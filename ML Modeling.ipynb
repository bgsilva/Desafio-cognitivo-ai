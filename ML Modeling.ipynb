{
 "cells": [
  {
   "cell_type": "markdown",
   "id": "fc3a173b",
   "metadata": {},
   "source": [
    "# Modelo de predição de preço: Dataset Airbnb / Rio de Janeiro\n",
    "\n",
    "Neste notebook são apresentas algumas estratégias de modelagem para predição de preços em acomodações do airbnb na cidade de Rio de Janeiro."
   ]
  },
  {
   "cell_type": "markdown",
   "id": "56103886",
   "metadata": {},
   "source": [
    "## Importando bibliotecas"
   ]
  },
  {
   "cell_type": "code",
   "execution_count": 1,
   "id": "f1476e77",
   "metadata": {},
   "outputs": [],
   "source": [
    "import pandas as pd\n",
    "import json\n",
    "import numpy as np\n",
    "import glob\n",
    "import matplotlib.pyplot as plt\n",
    "import seaborn as sns\n",
    "from sklearn.model_selection import train_test_split\n",
    "from sklearn.metrics import mean_absolute_error, r2_score, mean_squared_error\n",
    "from sklearn.ensemble import RandomForestRegressor\n",
    "from sklearn.model_selection import RandomizedSearchCV\n",
    "from math import sqrt\n",
    "\n",
    "import warnings\n",
    "warnings.filterwarnings('ignore')\n",
    "\n",
    "%matplotlib inline\n",
    "sns.set(rc={'figure.figsize':(7.7,7.7)}) # graph size"
   ]
  },
  {
   "cell_type": "markdown",
   "id": "69534a3d",
   "metadata": {},
   "source": [
    "## Importando dataset e visualizando os dados"
   ]
  },
  {
   "cell_type": "code",
   "execution_count": 3,
   "id": "59da3bfc",
   "metadata": {},
   "outputs": [],
   "source": [
    "df = pd.read_csv(\"data_for_modeling.csv\")"
   ]
  },
  {
   "cell_type": "code",
   "execution_count": 4,
   "id": "d5d6497a",
   "metadata": {},
   "outputs": [
    {
     "name": "stdout",
     "output_type": "stream",
     "text": [
      "(26615, 19)\n",
      "Index(['Unnamed: 0', 'neighbourhood_cleansed', 'accommodates',\n",
      "       'bathrooms_text_new', 'bedrooms', 'beds', 'minimum_nights',\n",
      "       'maximum_nights', 'availability_365', 'number_of_reviews',\n",
      "       'review_scores_rating', 'review_scores_accuracy',\n",
      "       'review_scores_cleanliness', 'review_scores_checkin',\n",
      "       'review_scores_communication', 'review_scores_location',\n",
      "       'review_scores_value', 'price_new', 'neighbourhood_cleansed_new'],\n",
      "      dtype='object')\n"
     ]
    }
   ],
   "source": [
    "# Visão geral do dataframe\n",
    "\n",
    "print(df.shape)\n",
    "print(df.columns)"
   ]
  },
  {
   "cell_type": "code",
   "execution_count": 5,
   "id": "c2167e4e",
   "metadata": {},
   "outputs": [
    {
     "name": "stdout",
     "output_type": "stream",
     "text": [
      "<class 'pandas.core.frame.DataFrame'>\n",
      "RangeIndex: 26615 entries, 0 to 26614\n",
      "Data columns (total 19 columns):\n",
      " #   Column                       Non-Null Count  Dtype  \n",
      "---  ------                       --------------  -----  \n",
      " 0   Unnamed: 0                   26615 non-null  int64  \n",
      " 1   neighbourhood_cleansed       26615 non-null  object \n",
      " 2   accommodates                 26615 non-null  int64  \n",
      " 3   bathrooms_text_new           26518 non-null  float64\n",
      " 4   bedrooms                     24869 non-null  float64\n",
      " 5   beds                         26363 non-null  float64\n",
      " 6   minimum_nights               26615 non-null  int64  \n",
      " 7   maximum_nights               26615 non-null  int64  \n",
      " 8   availability_365             26615 non-null  int64  \n",
      " 9   number_of_reviews            26615 non-null  int64  \n",
      " 10  review_scores_rating         16118 non-null  float64\n",
      " 11  review_scores_accuracy       16104 non-null  float64\n",
      " 12  review_scores_cleanliness    16107 non-null  float64\n",
      " 13  review_scores_checkin        16106 non-null  float64\n",
      " 14  review_scores_communication  16110 non-null  float64\n",
      " 15  review_scores_location       16106 non-null  float64\n",
      " 16  review_scores_value          16108 non-null  float64\n",
      " 17  price_new                    26615 non-null  float64\n",
      " 18  neighbourhood_cleansed_new   26615 non-null  int64  \n",
      "dtypes: float64(11), int64(7), object(1)\n",
      "memory usage: 3.9+ MB\n"
     ]
    }
   ],
   "source": [
    "df.info()"
   ]
  },
  {
   "cell_type": "markdown",
   "id": "c902c992",
   "metadata": {},
   "source": [
    "## Modelo baseline\n",
    "\n",
    "O primeira modelagem é feita a partir de um modelo baseline para servir de comparação com modelagens mais avançadas."
   ]
  },
  {
   "cell_type": "code",
   "execution_count": 6,
   "id": "b8a07ea9",
   "metadata": {},
   "outputs": [
    {
     "data": {
      "text/plain": [
       "(14834, 19)"
      ]
     },
     "execution_count": 6,
     "metadata": {},
     "output_type": "execute_result"
    }
   ],
   "source": [
    "# Removando linhas com NaN's\n",
    "\n",
    "df_wo_nan = df.dropna()\n",
    "df_wo_nan.shape"
   ]
  },
  {
   "cell_type": "code",
   "execution_count": 7,
   "id": "d1cd5710",
   "metadata": {},
   "outputs": [
    {
     "data": {
      "text/html": [
       "<div>\n",
       "<style scoped>\n",
       "    .dataframe tbody tr th:only-of-type {\n",
       "        vertical-align: middle;\n",
       "    }\n",
       "\n",
       "    .dataframe tbody tr th {\n",
       "        vertical-align: top;\n",
       "    }\n",
       "\n",
       "    .dataframe thead th {\n",
       "        text-align: right;\n",
       "    }\n",
       "</style>\n",
       "<table border=\"1\" class=\"dataframe\">\n",
       "  <thead>\n",
       "    <tr style=\"text-align: right;\">\n",
       "      <th></th>\n",
       "      <th>Unnamed: 0</th>\n",
       "      <th>accommodates</th>\n",
       "      <th>bathrooms_text_new</th>\n",
       "      <th>bedrooms</th>\n",
       "      <th>beds</th>\n",
       "      <th>minimum_nights</th>\n",
       "      <th>maximum_nights</th>\n",
       "      <th>availability_365</th>\n",
       "      <th>number_of_reviews</th>\n",
       "      <th>review_scores_rating</th>\n",
       "      <th>review_scores_accuracy</th>\n",
       "      <th>review_scores_cleanliness</th>\n",
       "      <th>review_scores_checkin</th>\n",
       "      <th>review_scores_communication</th>\n",
       "      <th>review_scores_location</th>\n",
       "      <th>review_scores_value</th>\n",
       "      <th>price_new</th>\n",
       "      <th>neighbourhood_cleansed_new</th>\n",
       "    </tr>\n",
       "  </thead>\n",
       "  <tbody>\n",
       "    <tr>\n",
       "      <th>count</th>\n",
       "      <td>14834.000000</td>\n",
       "      <td>14834.000000</td>\n",
       "      <td>14834.000000</td>\n",
       "      <td>14834.000000</td>\n",
       "      <td>14834.000000</td>\n",
       "      <td>14834.000000</td>\n",
       "      <td>1.483400e+04</td>\n",
       "      <td>14834.000000</td>\n",
       "      <td>14834.00000</td>\n",
       "      <td>14834.000000</td>\n",
       "      <td>14834.000000</td>\n",
       "      <td>14834.000000</td>\n",
       "      <td>14834.000000</td>\n",
       "      <td>14834.000000</td>\n",
       "      <td>14834.000000</td>\n",
       "      <td>14834.000000</td>\n",
       "      <td>14834.000000</td>\n",
       "      <td>14834.000000</td>\n",
       "    </tr>\n",
       "    <tr>\n",
       "      <th>mean</th>\n",
       "      <td>12155.016921</td>\n",
       "      <td>4.115748</td>\n",
       "      <td>1.601321</td>\n",
       "      <td>1.628152</td>\n",
       "      <td>2.550627</td>\n",
       "      <td>3.797020</td>\n",
       "      <td>6.803485e+04</td>\n",
       "      <td>210.374612</td>\n",
       "      <td>19.58312</td>\n",
       "      <td>94.617028</td>\n",
       "      <td>9.637522</td>\n",
       "      <td>9.397735</td>\n",
       "      <td>9.799987</td>\n",
       "      <td>9.758258</td>\n",
       "      <td>9.756977</td>\n",
       "      <td>9.294661</td>\n",
       "      <td>460.550694</td>\n",
       "      <td>50.449306</td>\n",
       "    </tr>\n",
       "    <tr>\n",
       "      <th>std</th>\n",
       "      <td>7205.545400</td>\n",
       "      <td>2.341680</td>\n",
       "      <td>0.942642</td>\n",
       "      <td>0.968905</td>\n",
       "      <td>2.073491</td>\n",
       "      <td>17.068159</td>\n",
       "      <td>8.210519e+06</td>\n",
       "      <td>137.918050</td>\n",
       "      <td>35.76731</td>\n",
       "      <td>9.747466</td>\n",
       "      <td>0.940700</td>\n",
       "      <td>1.132774</td>\n",
       "      <td>0.773541</td>\n",
       "      <td>0.832865</td>\n",
       "      <td>0.758551</td>\n",
       "      <td>1.060530</td>\n",
       "      <td>2531.937532</td>\n",
       "      <td>34.065162</td>\n",
       "    </tr>\n",
       "    <tr>\n",
       "      <th>min</th>\n",
       "      <td>0.000000</td>\n",
       "      <td>1.000000</td>\n",
       "      <td>0.000000</td>\n",
       "      <td>1.000000</td>\n",
       "      <td>0.000000</td>\n",
       "      <td>1.000000</td>\n",
       "      <td>1.000000e+00</td>\n",
       "      <td>0.000000</td>\n",
       "      <td>1.00000</td>\n",
       "      <td>20.000000</td>\n",
       "      <td>2.000000</td>\n",
       "      <td>2.000000</td>\n",
       "      <td>2.000000</td>\n",
       "      <td>2.000000</td>\n",
       "      <td>2.000000</td>\n",
       "      <td>2.000000</td>\n",
       "      <td>33.000000</td>\n",
       "      <td>0.000000</td>\n",
       "    </tr>\n",
       "    <tr>\n",
       "      <th>25%</th>\n",
       "      <td>5548.250000</td>\n",
       "      <td>2.000000</td>\n",
       "      <td>1.000000</td>\n",
       "      <td>1.000000</td>\n",
       "      <td>1.000000</td>\n",
       "      <td>2.000000</td>\n",
       "      <td>3.600000e+01</td>\n",
       "      <td>85.000000</td>\n",
       "      <td>2.00000</td>\n",
       "      <td>93.000000</td>\n",
       "      <td>10.000000</td>\n",
       "      <td>9.000000</td>\n",
       "      <td>10.000000</td>\n",
       "      <td>10.000000</td>\n",
       "      <td>10.000000</td>\n",
       "      <td>9.000000</td>\n",
       "      <td>149.000000</td>\n",
       "      <td>32.000000</td>\n",
       "    </tr>\n",
       "    <tr>\n",
       "      <th>50%</th>\n",
       "      <td>12450.500000</td>\n",
       "      <td>4.000000</td>\n",
       "      <td>1.000000</td>\n",
       "      <td>1.000000</td>\n",
       "      <td>2.000000</td>\n",
       "      <td>2.000000</td>\n",
       "      <td>1.124000e+03</td>\n",
       "      <td>207.000000</td>\n",
       "      <td>6.00000</td>\n",
       "      <td>98.000000</td>\n",
       "      <td>10.000000</td>\n",
       "      <td>10.000000</td>\n",
       "      <td>10.000000</td>\n",
       "      <td>10.000000</td>\n",
       "      <td>10.000000</td>\n",
       "      <td>10.000000</td>\n",
       "      <td>244.000000</td>\n",
       "      <td>32.000000</td>\n",
       "    </tr>\n",
       "    <tr>\n",
       "      <th>75%</th>\n",
       "      <td>17927.500000</td>\n",
       "      <td>5.000000</td>\n",
       "      <td>2.000000</td>\n",
       "      <td>2.000000</td>\n",
       "      <td>3.000000</td>\n",
       "      <td>3.000000</td>\n",
       "      <td>1.125000e+03</td>\n",
       "      <td>360.000000</td>\n",
       "      <td>19.00000</td>\n",
       "      <td>100.000000</td>\n",
       "      <td>10.000000</td>\n",
       "      <td>10.000000</td>\n",
       "      <td>10.000000</td>\n",
       "      <td>10.000000</td>\n",
       "      <td>10.000000</td>\n",
       "      <td>10.000000</td>\n",
       "      <td>409.000000</td>\n",
       "      <td>65.000000</td>\n",
       "    </tr>\n",
       "    <tr>\n",
       "      <th>max</th>\n",
       "      <td>26460.000000</td>\n",
       "      <td>16.000000</td>\n",
       "      <td>20.000000</td>\n",
       "      <td>20.000000</td>\n",
       "      <td>50.000000</td>\n",
       "      <td>1000.000000</td>\n",
       "      <td>1.000000e+09</td>\n",
       "      <td>365.000000</td>\n",
       "      <td>446.00000</td>\n",
       "      <td>100.000000</td>\n",
       "      <td>10.000000</td>\n",
       "      <td>10.000000</td>\n",
       "      <td>10.000000</td>\n",
       "      <td>10.000000</td>\n",
       "      <td>10.000000</td>\n",
       "      <td>10.000000</td>\n",
       "      <td>129080.000000</td>\n",
       "      <td>148.000000</td>\n",
       "    </tr>\n",
       "  </tbody>\n",
       "</table>\n",
       "</div>"
      ],
      "text/plain": [
       "         Unnamed: 0  accommodates  bathrooms_text_new      bedrooms  \\\n",
       "count  14834.000000  14834.000000        14834.000000  14834.000000   \n",
       "mean   12155.016921      4.115748            1.601321      1.628152   \n",
       "std     7205.545400      2.341680            0.942642      0.968905   \n",
       "min        0.000000      1.000000            0.000000      1.000000   \n",
       "25%     5548.250000      2.000000            1.000000      1.000000   \n",
       "50%    12450.500000      4.000000            1.000000      1.000000   \n",
       "75%    17927.500000      5.000000            2.000000      2.000000   \n",
       "max    26460.000000     16.000000           20.000000     20.000000   \n",
       "\n",
       "               beds  minimum_nights  maximum_nights  availability_365  \\\n",
       "count  14834.000000    14834.000000    1.483400e+04      14834.000000   \n",
       "mean       2.550627        3.797020    6.803485e+04        210.374612   \n",
       "std        2.073491       17.068159    8.210519e+06        137.918050   \n",
       "min        0.000000        1.000000    1.000000e+00          0.000000   \n",
       "25%        1.000000        2.000000    3.600000e+01         85.000000   \n",
       "50%        2.000000        2.000000    1.124000e+03        207.000000   \n",
       "75%        3.000000        3.000000    1.125000e+03        360.000000   \n",
       "max       50.000000     1000.000000    1.000000e+09        365.000000   \n",
       "\n",
       "       number_of_reviews  review_scores_rating  review_scores_accuracy  \\\n",
       "count        14834.00000          14834.000000            14834.000000   \n",
       "mean            19.58312             94.617028                9.637522   \n",
       "std             35.76731              9.747466                0.940700   \n",
       "min              1.00000             20.000000                2.000000   \n",
       "25%              2.00000             93.000000               10.000000   \n",
       "50%              6.00000             98.000000               10.000000   \n",
       "75%             19.00000            100.000000               10.000000   \n",
       "max            446.00000            100.000000               10.000000   \n",
       "\n",
       "       review_scores_cleanliness  review_scores_checkin  \\\n",
       "count               14834.000000           14834.000000   \n",
       "mean                    9.397735               9.799987   \n",
       "std                     1.132774               0.773541   \n",
       "min                     2.000000               2.000000   \n",
       "25%                     9.000000              10.000000   \n",
       "50%                    10.000000              10.000000   \n",
       "75%                    10.000000              10.000000   \n",
       "max                    10.000000              10.000000   \n",
       "\n",
       "       review_scores_communication  review_scores_location  \\\n",
       "count                 14834.000000            14834.000000   \n",
       "mean                      9.758258                9.756977   \n",
       "std                       0.832865                0.758551   \n",
       "min                       2.000000                2.000000   \n",
       "25%                      10.000000               10.000000   \n",
       "50%                      10.000000               10.000000   \n",
       "75%                      10.000000               10.000000   \n",
       "max                      10.000000               10.000000   \n",
       "\n",
       "       review_scores_value      price_new  neighbourhood_cleansed_new  \n",
       "count         14834.000000   14834.000000                14834.000000  \n",
       "mean              9.294661     460.550694                   50.449306  \n",
       "std               1.060530    2531.937532                   34.065162  \n",
       "min               2.000000      33.000000                    0.000000  \n",
       "25%               9.000000     149.000000                   32.000000  \n",
       "50%              10.000000     244.000000                   32.000000  \n",
       "75%              10.000000     409.000000                   65.000000  \n",
       "max              10.000000  129080.000000                  148.000000  "
      ]
     },
     "execution_count": 7,
     "metadata": {},
     "output_type": "execute_result"
    }
   ],
   "source": [
    "df_wo_nan.describe()"
   ]
  },
  {
   "cell_type": "code",
   "execution_count": 8,
   "id": "61a096df",
   "metadata": {},
   "outputs": [],
   "source": [
    "# removendo outliers\n",
    "\n",
    "df_wo_outliers = pd.DataFrame([])\n",
    "\n",
    "for neighbour in df_wo_nan['neighbourhood_cleansed'].unique():\n",
    "    \n",
    "    max_price = df_wo_nan[df_wo_nan.neighbourhood_cleansed == neighbour]['price_new'].mean() + 2 * df_wo_nan[df_wo_nan.neighbourhood_cleansed == neighbour]['price_new'].std()\n",
    "        \n",
    "    df_ = df_wo_nan[df_wo_nan.neighbourhood_cleansed == neighbour][df_wo_nan.price_new <= max_price]\n",
    "    \n",
    "    df_wo_outliers = df_wo_outliers.append(df_)"
   ]
  },
  {
   "cell_type": "code",
   "execution_count": 9,
   "id": "4ef7bdf3",
   "metadata": {},
   "outputs": [
    {
     "data": {
      "text/plain": [
       "(14576, 19)"
      ]
     },
     "execution_count": 9,
     "metadata": {},
     "output_type": "execute_result"
    }
   ],
   "source": [
    "df_wo_outliers.shape"
   ]
  },
  {
   "cell_type": "code",
   "execution_count": 10,
   "id": "e992f448",
   "metadata": {},
   "outputs": [
    {
     "name": "stdout",
     "output_type": "stream",
     "text": [
      "xtrain shape :  (11660, 5)\n",
      "xtest shape  :  (2916, 5)\n",
      "ytrain shape :  (11660,)\n",
      "ytest shape  :  (2916,)\n"
     ]
    }
   ],
   "source": [
    "# Normalizando dados\n",
    "\n",
    "X = df_wo_outliers[['neighbourhood_cleansed_new', 'accommodates', 'bathrooms_text_new', 'bedrooms', 'beds']]\n",
    "y = df_wo_outliers['price_new'].values\n",
    "\n",
    "from sklearn.preprocessing import StandardScaler\n",
    "sc = StandardScaler()\n",
    "\n",
    "X_train, X_test, y_train, y_test = train_test_split(X, y, test_size =0.2, random_state = 0)\n",
    "\n",
    "X_train = sc.fit_transform(X_train)\n",
    "X_test = sc.transform (X_test)\n",
    "\n",
    "print(\"xtrain shape : \", X_train.shape)\n",
    "print(\"xtest shape  : \", X_test.shape)\n",
    "print(\"ytrain shape : \", y_train.shape)\n",
    "print(\"ytest shape  : \", y_test.shape)"
   ]
  },
  {
   "cell_type": "code",
   "execution_count": 11,
   "id": "9cbc981f",
   "metadata": {},
   "outputs": [
    {
     "data": {
      "image/png": "[encoded data removed]",
      "text/plain": [
       "<Figure size 504x360 with 2 Axes>"
      ]
     },
     "metadata": {},
     "output_type": "display_data"
    }
   ],
   "source": [
    "# Investigando multicolinearidade\n",
    "\n",
    "corr = X.corr() \n",
    "\n",
    "plt.figure(figsize = (7, 5))\n",
    "sns.heatmap(corr, cmap = 'coolwarm')\n",
    "plt.show()"
   ]
  },
  {
   "cell_type": "markdown",
   "id": "8c1deb55",
   "metadata": {},
   "source": [
    "Na figura acima podemos observar que as features 'accommodates', 'bathrooms_text_new' e 'beds' apresentam correlação acima de 0.5 entre si."
   ]
  },
  {
   "cell_type": "code",
   "execution_count": 12,
   "id": "860d6f33",
   "metadata": {},
   "outputs": [
    {
     "data": {
      "text/plain": [
       "LinearRegression()"
      ]
     },
     "execution_count": 12,
     "metadata": {},
     "output_type": "execute_result"
    }
   ],
   "source": [
    "# Ajuste do modelo de regressão multi linear para treinamento do modelo\n",
    "\n",
    "from sklearn.linear_model import LinearRegression\n",
    "regressor = LinearRegression()\n",
    "regressor.fit(X_train, y_train)"
   ]
  },
  {
   "cell_type": "code",
   "execution_count": 13,
   "id": "1774a57d",
   "metadata": {},
   "outputs": [
    {
     "data": {
      "image/png": "[encoded data removed]",
      "text/plain": [
       "<Figure size 554.4x554.4 with 1 Axes>"
      ]
     },
     "metadata": {},
     "output_type": "display_data"
    }
   ],
   "source": [
    "y_pred = regressor.predict(X_test)\n",
    "\n",
    "plt.scatter(y_test, y_pred, c = 'green')\n",
    "plt.title(\"Valores reais vs. valores preditos  (Regressão Linear)\")\n",
    "plt.xlabel('Preço real')\n",
    "plt.ylabel('Preço predito')\n",
    "plt.show()"
   ]
  },
  {
   "cell_type": "markdown",
   "id": "74ade55b",
   "metadata": {},
   "source": [
    "Pelo gráfico acima, podemos observar de maneira geral que os preço preditos são mais próximos dos reais para valores abaixo de $1500.  \n",
    "As métricas para avaliação do modelo abaixo indicam que o modelo utilizado apresenta altos valores de erro. "
   ]
  },
  {
   "cell_type": "code",
   "execution_count": 14,
   "id": "edf2614f",
   "metadata": {},
   "outputs": [
    {
     "name": "stdout",
     "output_type": "stream",
     "text": [
      "MAE :  182.78189495108143\n",
      "r2 :  0.29213334148322045\n",
      "RMSE :  417.50205068598314\n"
     ]
    }
   ],
   "source": [
    "mae = mean_absolute_error(y_test, y_pred)\n",
    "r2 = r2_score(y_test, y_pred)\n",
    "rmse = sqrt(mean_squared_error(y_test, y_pred))\n",
    "print(\"MAE : \", mae)\n",
    "print(\"r2 : \", r2)\n",
    "print(\"RMSE : \", rmse)"
   ]
  },
  {
   "cell_type": "markdown",
   "id": "46e20d85",
   "metadata": {},
   "source": [
    "## Melhorando o modelo baseline: Random Forest\n",
    "\n",
    "Com o objetivo de melhorar a predição dos preços, foi utilizado um modelo Random Forest para identificar as features que melhorem a predição."
   ]
  },
  {
   "cell_type": "code",
   "execution_count": 15,
   "id": "2c5563ee",
   "metadata": {},
   "outputs": [],
   "source": [
    "# Limpeza do dataset e remoção da feature a ser predita ('price_new')\n",
    "\n",
    "y = df_wo_outliers['price_new'].values\n",
    "X = df_wo_outliers.drop(columns = {'Unnamed: 0', 'neighbourhood_cleansed', 'price_new'})"
   ]
  },
  {
   "cell_type": "code",
   "execution_count": 16,
   "id": "111aa06e",
   "metadata": {},
   "outputs": [
    {
     "data": {
      "text/html": [
       "<div>\n",
       "<style scoped>\n",
       "    .dataframe tbody tr th:only-of-type {\n",
       "        vertical-align: middle;\n",
       "    }\n",
       "\n",
       "    .dataframe tbody tr th {\n",
       "        vertical-align: top;\n",
       "    }\n",
       "\n",
       "    .dataframe thead th {\n",
       "        text-align: right;\n",
       "    }\n",
       "</style>\n",
       "<table border=\"1\" class=\"dataframe\">\n",
       "  <thead>\n",
       "    <tr style=\"text-align: right;\">\n",
       "      <th></th>\n",
       "      <th>accommodates</th>\n",
       "      <th>bathrooms_text_new</th>\n",
       "      <th>bedrooms</th>\n",
       "      <th>beds</th>\n",
       "      <th>minimum_nights</th>\n",
       "      <th>maximum_nights</th>\n",
       "      <th>availability_365</th>\n",
       "      <th>number_of_reviews</th>\n",
       "      <th>review_scores_rating</th>\n",
       "      <th>review_scores_accuracy</th>\n",
       "      <th>review_scores_cleanliness</th>\n",
       "      <th>review_scores_checkin</th>\n",
       "      <th>review_scores_communication</th>\n",
       "      <th>review_scores_location</th>\n",
       "      <th>review_scores_value</th>\n",
       "      <th>neighbourhood_cleansed_new</th>\n",
       "    </tr>\n",
       "  </thead>\n",
       "  <tbody>\n",
       "    <tr>\n",
       "      <th>0</th>\n",
       "      <td>5</td>\n",
       "      <td>1.0</td>\n",
       "      <td>2.0</td>\n",
       "      <td>2.0</td>\n",
       "      <td>5</td>\n",
       "      <td>180</td>\n",
       "      <td>304</td>\n",
       "      <td>260</td>\n",
       "      <td>94.0</td>\n",
       "      <td>9.0</td>\n",
       "      <td>9.0</td>\n",
       "      <td>10.0</td>\n",
       "      <td>10.0</td>\n",
       "      <td>10.0</td>\n",
       "      <td>9.0</td>\n",
       "      <td>32</td>\n",
       "    </tr>\n",
       "    <tr>\n",
       "      <th>2</th>\n",
       "      <td>2</td>\n",
       "      <td>1.0</td>\n",
       "      <td>1.0</td>\n",
       "      <td>2.0</td>\n",
       "      <td>7</td>\n",
       "      <td>60</td>\n",
       "      <td>328</td>\n",
       "      <td>238</td>\n",
       "      <td>94.0</td>\n",
       "      <td>9.0</td>\n",
       "      <td>9.0</td>\n",
       "      <td>9.0</td>\n",
       "      <td>10.0</td>\n",
       "      <td>10.0</td>\n",
       "      <td>9.0</td>\n",
       "      <td>32</td>\n",
       "    </tr>\n",
       "    <tr>\n",
       "      <th>4</th>\n",
       "      <td>2</td>\n",
       "      <td>1.0</td>\n",
       "      <td>1.0</td>\n",
       "      <td>1.0</td>\n",
       "      <td>3</td>\n",
       "      <td>15</td>\n",
       "      <td>101</td>\n",
       "      <td>353</td>\n",
       "      <td>98.0</td>\n",
       "      <td>10.0</td>\n",
       "      <td>10.0</td>\n",
       "      <td>10.0</td>\n",
       "      <td>10.0</td>\n",
       "      <td>10.0</td>\n",
       "      <td>10.0</td>\n",
       "      <td>32</td>\n",
       "    </tr>\n",
       "    <tr>\n",
       "      <th>5</th>\n",
       "      <td>5</td>\n",
       "      <td>1.0</td>\n",
       "      <td>2.0</td>\n",
       "      <td>0.0</td>\n",
       "      <td>3</td>\n",
       "      <td>365</td>\n",
       "      <td>365</td>\n",
       "      <td>18</td>\n",
       "      <td>84.0</td>\n",
       "      <td>8.0</td>\n",
       "      <td>9.0</td>\n",
       "      <td>9.0</td>\n",
       "      <td>9.0</td>\n",
       "      <td>9.0</td>\n",
       "      <td>9.0</td>\n",
       "      <td>32</td>\n",
       "    </tr>\n",
       "    <tr>\n",
       "      <th>7</th>\n",
       "      <td>8</td>\n",
       "      <td>3.5</td>\n",
       "      <td>4.0</td>\n",
       "      <td>6.0</td>\n",
       "      <td>4</td>\n",
       "      <td>750</td>\n",
       "      <td>1</td>\n",
       "      <td>4</td>\n",
       "      <td>87.0</td>\n",
       "      <td>9.0</td>\n",
       "      <td>9.0</td>\n",
       "      <td>9.0</td>\n",
       "      <td>9.0</td>\n",
       "      <td>9.0</td>\n",
       "      <td>7.0</td>\n",
       "      <td>32</td>\n",
       "    </tr>\n",
       "  </tbody>\n",
       "</table>\n",
       "</div>"
      ],
      "text/plain": [
       "   accommodates  bathrooms_text_new  bedrooms  beds  minimum_nights  \\\n",
       "0             5                 1.0       2.0   2.0               5   \n",
       "2             2                 1.0       1.0   2.0               7   \n",
       "4             2                 1.0       1.0   1.0               3   \n",
       "5             5                 1.0       2.0   0.0               3   \n",
       "7             8                 3.5       4.0   6.0               4   \n",
       "\n",
       "   maximum_nights  availability_365  number_of_reviews  review_scores_rating  \\\n",
       "0             180               304                260                  94.0   \n",
       "2              60               328                238                  94.0   \n",
       "4              15               101                353                  98.0   \n",
       "5             365               365                 18                  84.0   \n",
       "7             750                 1                  4                  87.0   \n",
       "\n",
       "   review_scores_accuracy  review_scores_cleanliness  review_scores_checkin  \\\n",
       "0                     9.0                        9.0                   10.0   \n",
       "2                     9.0                        9.0                    9.0   \n",
       "4                    10.0                       10.0                   10.0   \n",
       "5                     8.0                        9.0                    9.0   \n",
       "7                     9.0                        9.0                    9.0   \n",
       "\n",
       "   review_scores_communication  review_scores_location  review_scores_value  \\\n",
       "0                         10.0                    10.0                  9.0   \n",
       "2                         10.0                    10.0                  9.0   \n",
       "4                         10.0                    10.0                 10.0   \n",
       "5                          9.0                     9.0                  9.0   \n",
       "7                          9.0                     9.0                  7.0   \n",
       "\n",
       "   neighbourhood_cleansed_new  \n",
       "0                          32  \n",
       "2                          32  \n",
       "4                          32  \n",
       "5                          32  \n",
       "7                          32  "
      ]
     },
     "execution_count": 16,
     "metadata": {},
     "output_type": "execute_result"
    }
   ],
   "source": [
    "X.head()"
   ]
  },
  {
   "cell_type": "code",
   "execution_count": 16,
   "id": "067b2eb3",
   "metadata": {},
   "outputs": [
    {
     "data": {
      "image/png": "[encoded data removed]",
      "text/plain": [
       "<Figure size 504x360 with 2 Axes>"
      ]
     },
     "metadata": {},
     "output_type": "display_data"
    }
   ],
   "source": [
    "# investigando multicolinearidade\n",
    "\n",
    "corr = X.corr() \n",
    "\n",
    "plt.figure(figsize = (7, 5))\n",
    "sns.heatmap(corr, cmap = 'coolwarm')\n",
    "plt.show()"
   ]
  },
  {
   "cell_type": "markdown",
   "id": "0c4890b0",
   "metadata": {},
   "source": [
    "### Encontrando as melhores features para predizer o preço"
   ]
  },
  {
   "cell_type": "code",
   "execution_count": 17,
   "id": "93ad0fef",
   "metadata": {},
   "outputs": [
    {
     "data": {
      "text/html": [
       "<div>\n",
       "<style scoped>\n",
       "    .dataframe tbody tr th:only-of-type {\n",
       "        vertical-align: middle;\n",
       "    }\n",
       "\n",
       "    .dataframe tbody tr th {\n",
       "        vertical-align: top;\n",
       "    }\n",
       "\n",
       "    .dataframe thead th {\n",
       "        text-align: right;\n",
       "    }\n",
       "</style>\n",
       "<table border=\"1\" class=\"dataframe\">\n",
       "  <thead>\n",
       "    <tr style=\"text-align: right;\">\n",
       "      <th></th>\n",
       "      <th>accommodates</th>\n",
       "      <th>bathrooms_text_new</th>\n",
       "      <th>bedrooms</th>\n",
       "      <th>beds</th>\n",
       "      <th>minimum_nights</th>\n",
       "      <th>maximum_nights</th>\n",
       "      <th>availability_365</th>\n",
       "      <th>number_of_reviews</th>\n",
       "      <th>review_scores_rating</th>\n",
       "      <th>review_scores_accuracy</th>\n",
       "      <th>review_scores_cleanliness</th>\n",
       "      <th>review_scores_checkin</th>\n",
       "      <th>review_scores_communication</th>\n",
       "      <th>review_scores_location</th>\n",
       "      <th>review_scores_value</th>\n",
       "      <th>neighbourhood_cleansed_new</th>\n",
       "    </tr>\n",
       "  </thead>\n",
       "  <tbody>\n",
       "    <tr>\n",
       "      <th>11794</th>\n",
       "      <td>2</td>\n",
       "      <td>1.0</td>\n",
       "      <td>1.0</td>\n",
       "      <td>2.0</td>\n",
       "      <td>1</td>\n",
       "      <td>1125</td>\n",
       "      <td>89</td>\n",
       "      <td>76</td>\n",
       "      <td>94.0</td>\n",
       "      <td>9.0</td>\n",
       "      <td>8.0</td>\n",
       "      <td>10.0</td>\n",
       "      <td>9.0</td>\n",
       "      <td>10.0</td>\n",
       "      <td>9.0</td>\n",
       "      <td>32</td>\n",
       "    </tr>\n",
       "    <tr>\n",
       "      <th>14778</th>\n",
       "      <td>6</td>\n",
       "      <td>1.0</td>\n",
       "      <td>2.0</td>\n",
       "      <td>3.0</td>\n",
       "      <td>2</td>\n",
       "      <td>15</td>\n",
       "      <td>148</td>\n",
       "      <td>17</td>\n",
       "      <td>100.0</td>\n",
       "      <td>10.0</td>\n",
       "      <td>10.0</td>\n",
       "      <td>10.0</td>\n",
       "      <td>10.0</td>\n",
       "      <td>10.0</td>\n",
       "      <td>10.0</td>\n",
       "      <td>32</td>\n",
       "    </tr>\n",
       "    <tr>\n",
       "      <th>8516</th>\n",
       "      <td>5</td>\n",
       "      <td>1.0</td>\n",
       "      <td>1.0</td>\n",
       "      <td>3.0</td>\n",
       "      <td>1</td>\n",
       "      <td>1125</td>\n",
       "      <td>365</td>\n",
       "      <td>1</td>\n",
       "      <td>80.0</td>\n",
       "      <td>6.0</td>\n",
       "      <td>8.0</td>\n",
       "      <td>10.0</td>\n",
       "      <td>10.0</td>\n",
       "      <td>8.0</td>\n",
       "      <td>6.0</td>\n",
       "      <td>8</td>\n",
       "    </tr>\n",
       "    <tr>\n",
       "      <th>9905</th>\n",
       "      <td>4</td>\n",
       "      <td>1.0</td>\n",
       "      <td>1.0</td>\n",
       "      <td>1.0</td>\n",
       "      <td>3</td>\n",
       "      <td>89</td>\n",
       "      <td>0</td>\n",
       "      <td>78</td>\n",
       "      <td>98.0</td>\n",
       "      <td>10.0</td>\n",
       "      <td>10.0</td>\n",
       "      <td>10.0</td>\n",
       "      <td>10.0</td>\n",
       "      <td>10.0</td>\n",
       "      <td>9.0</td>\n",
       "      <td>109</td>\n",
       "    </tr>\n",
       "    <tr>\n",
       "      <th>7901</th>\n",
       "      <td>3</td>\n",
       "      <td>1.0</td>\n",
       "      <td>2.0</td>\n",
       "      <td>2.0</td>\n",
       "      <td>5</td>\n",
       "      <td>1125</td>\n",
       "      <td>363</td>\n",
       "      <td>7</td>\n",
       "      <td>97.0</td>\n",
       "      <td>10.0</td>\n",
       "      <td>10.0</td>\n",
       "      <td>10.0</td>\n",
       "      <td>10.0</td>\n",
       "      <td>10.0</td>\n",
       "      <td>10.0</td>\n",
       "      <td>32</td>\n",
       "    </tr>\n",
       "  </tbody>\n",
       "</table>\n",
       "</div>"
      ],
      "text/plain": [
       "       accommodates  bathrooms_text_new  bedrooms  beds  minimum_nights  \\\n",
       "11794             2                 1.0       1.0   2.0               1   \n",
       "14778             6                 1.0       2.0   3.0               2   \n",
       "8516              5                 1.0       1.0   3.0               1   \n",
       "9905              4                 1.0       1.0   1.0               3   \n",
       "7901              3                 1.0       2.0   2.0               5   \n",
       "\n",
       "       maximum_nights  availability_365  number_of_reviews  \\\n",
       "11794            1125                89                 76   \n",
       "14778              15               148                 17   \n",
       "8516             1125               365                  1   \n",
       "9905               89                 0                 78   \n",
       "7901             1125               363                  7   \n",
       "\n",
       "       review_scores_rating  review_scores_accuracy  \\\n",
       "11794                  94.0                     9.0   \n",
       "14778                 100.0                    10.0   \n",
       "8516                   80.0                     6.0   \n",
       "9905                   98.0                    10.0   \n",
       "7901                   97.0                    10.0   \n",
       "\n",
       "       review_scores_cleanliness  review_scores_checkin  \\\n",
       "11794                        8.0                   10.0   \n",
       "14778                       10.0                   10.0   \n",
       "8516                         8.0                   10.0   \n",
       "9905                        10.0                   10.0   \n",
       "7901                        10.0                   10.0   \n",
       "\n",
       "       review_scores_communication  review_scores_location  \\\n",
       "11794                          9.0                    10.0   \n",
       "14778                         10.0                    10.0   \n",
       "8516                          10.0                     8.0   \n",
       "9905                          10.0                    10.0   \n",
       "7901                          10.0                    10.0   \n",
       "\n",
       "       review_scores_value  neighbourhood_cleansed_new  \n",
       "11794                  9.0                          32  \n",
       "14778                 10.0                          32  \n",
       "8516                   6.0                           8  \n",
       "9905                   9.0                         109  \n",
       "7901                  10.0                          32  "
      ]
     },
     "execution_count": 17,
     "metadata": {},
     "output_type": "execute_result"
    }
   ],
   "source": [
    "# Separando as variáveis de treinamento e de teste\n",
    "\n",
    "sc = StandardScaler()\n",
    "\n",
    "X_train, X_test, y_train, y_test = train_test_split(X, y, test_size =0.2, random_state = 0)\n",
    "\n",
    "X_train.head()"
   ]
  },
  {
   "cell_type": "code",
   "execution_count": 18,
   "id": "d02ff975",
   "metadata": {},
   "outputs": [],
   "source": [
    "# Normalizando as features\n",
    "\n",
    "cols = X_train.columns\n",
    "sc = StandardScaler()\n",
    "X_train_sc = pd.DataFrame(sc.fit_transform(X_train), columns=cols)\n",
    "X_test_sc = pd.DataFrame(sc.transform(X_test), columns=cols)"
   ]
  },
  {
   "cell_type": "code",
   "execution_count": 22,
   "id": "2c72b384",
   "metadata": {},
   "outputs": [
    {
     "data": {
      "text/plain": [
       "RandomForestRegressor(random_state=42)"
      ]
     },
     "execution_count": 22,
     "metadata": {},
     "output_type": "execute_result"
    }
   ],
   "source": [
    "# Treinando o modelo\n",
    "\n",
    "rf = RandomForestRegressor(random_state=42)\n",
    "rf.fit(X_train_sc, y_train)"
   ]
  },
  {
   "cell_type": "code",
   "execution_count": 23,
   "id": "bf57b2a1",
   "metadata": {},
   "outputs": [
    {
     "data": {
      "text/plain": [
       "Text(0.5, 1.0, 'Importância das features')"
      ]
     },
     "execution_count": 23,
     "metadata": {},
     "output_type": "execute_result"
    },
    {
     "data": {
      "image/png": "[encoded data removed]",
      "text/plain": [
       "<Figure size 554.4x554.4 with 1 Axes>"
      ]
     },
     "metadata": {},
     "output_type": "display_data"
    }
   ],
   "source": [
    "feature_importances = pd.Series(data=rf.feature_importances_, index=cols)\n",
    "sns.barplot(x=feature_importances, y=feature_importances.index, orient='h', color='green')\n",
    "plt.title('Importância das features')"
   ]
  },
  {
   "cell_type": "markdown",
   "id": "72455a0c",
   "metadata": {},
   "source": [
    "Podemos observar que as 5 features que melhor descrevem o preço são às relativas ao número de quartos, número de banheiros, disponibilidade durante o ano, bairro e número de reviews. Com o uso dessas features, é criado um novo modelo para predição dos preços."
   ]
  },
  {
   "cell_type": "code",
   "execution_count": 25,
   "id": "c0e4412b",
   "metadata": {},
   "outputs": [
    {
     "name": "stdout",
     "output_type": "stream",
     "text": [
      "xtrain shape :  (11660, 5)\n",
      "xtest shape  :  (2916, 5)\n",
      "ytrain shape :  (11660,)\n",
      "ytest shape  :  (2916,)\n"
     ]
    }
   ],
   "source": [
    "X = df_wo_outliers[['bathrooms_text_new', 'bedrooms', 'availability_365', 'number_of_reviews',\n",
    "                    'neighbourhood_cleansed_new']]\n",
    "y = df_wo_outliers['price_new'].values\n",
    "\n",
    "sc = StandardScaler()\n",
    "\n",
    "X_train, X_test, y_train, y_test = train_test_split(X, y, test_size =0.2, random_state = 0)\n",
    "\n",
    "X_train = sc.fit_transform(X_train)\n",
    "X_test = sc.transform (X_test)\n",
    "\n",
    "print(\"xtrain shape : \", X_train.shape)\n",
    "print(\"xtest shape  : \", X_test.shape)\n",
    "print(\"ytrain shape : \", y_train.shape)\n",
    "print(\"ytest shape  : \", y_test.shape)"
   ]
  },
  {
   "cell_type": "code",
   "execution_count": 26,
   "id": "16d25a44",
   "metadata": {},
   "outputs": [
    {
     "data": {
      "text/plain": [
       "RandomForestRegressor(random_state=42)"
      ]
     },
     "execution_count": 26,
     "metadata": {},
     "output_type": "execute_result"
    }
   ],
   "source": [
    "rf_features = RandomForestRegressor(random_state=42)\n",
    "rf_features.fit(X_train, y_train)  "
   ]
  },
  {
   "cell_type": "code",
   "execution_count": 27,
   "id": "03363a83",
   "metadata": {},
   "outputs": [],
   "source": [
    "y_pred_rf = regressor.predict(X_test)"
   ]
  },
  {
   "cell_type": "code",
   "execution_count": 28,
   "id": "3597bb6a",
   "metadata": {},
   "outputs": [
    {
     "name": "stdout",
     "output_type": "stream",
     "text": [
      "Mean Absolute Error: 238.07727763573226\n",
      "RMSE: 488.98662768568477\n"
     ]
    }
   ],
   "source": [
    "print('Mean Absolute Error:', mean_absolute_error(y_test, y_pred_rf))\n",
    "print('RMSE:', sqrt(mean_squared_error(y_test, y_pred_rf)))"
   ]
  },
  {
   "cell_type": "markdown",
   "id": "8cb39cbd",
   "metadata": {},
   "source": [
    "Podemos observar que com a utilização dessas features, os valores das métricas subiram um pouco. Para melhorar a modelagem, é realizada uma otimização dos hiperparâmetros com um novo modelo Random Forest."
   ]
  },
  {
   "cell_type": "code",
   "execution_count": 30,
   "id": "55f696d5",
   "metadata": {},
   "outputs": [],
   "source": [
    "# Número de estimadores\n",
    "estimadores = [int(x) for x in np.linspace(start = 200, stop = 500, num = 10)]\n",
    "# Número de features\n",
    "max_features = ['auto', 'sqrt']\n",
    "# Profundidade da árvore\n",
    "max_depth = [int(x) for x in np.linspace(10, 100, num = 10)]\n",
    "max_depth.append(None)\n",
    "# Seleção dos dados\n",
    "bootstrap = [True, False]\n",
    "# Criando a random grid\n",
    "random_grid = {'n_estimators': estimadores,\n",
    "               'max_features': max_features,\n",
    "               'max_depth': max_depth,\n",
    "               'bootstrap': bootstrap}"
   ]
  },
  {
   "cell_type": "code",
   "execution_count": 31,
   "id": "34316d70",
   "metadata": {},
   "outputs": [
    {
     "data": {
      "text/plain": [
       "{'n_estimators': [200, 233, 266, 300, 333, 366, 400, 433, 466, 500],\n",
       " 'max_features': ['auto', 'sqrt'],\n",
       " 'max_depth': [10, 20, 30, 40, 50, 60, 70, 80, 90, 100, None],\n",
       " 'bootstrap': [True, False]}"
      ]
     },
     "execution_count": 31,
     "metadata": {},
     "output_type": "execute_result"
    }
   ],
   "source": [
    "random_grid"
   ]
  },
  {
   "cell_type": "code",
   "execution_count": 32,
   "id": "4e7d9589",
   "metadata": {
    "scrolled": true
   },
   "outputs": [
    {
     "data": {
      "text/plain": [
       "RandomizedSearchCV(cv=5, estimator=RandomForestRegressor(random_state=42),\n",
       "                   n_iter=100, n_jobs=-1,\n",
       "                   param_distributions={'bootstrap': [True, False],\n",
       "                                        'max_depth': [10, 20, 30, 40, 50, 60,\n",
       "                                                      70, 80, 90, 100, None],\n",
       "                                        'max_features': ['auto', 'sqrt'],\n",
       "                                        'n_estimators': [200, 233, 266, 300,\n",
       "                                                         333, 366, 400, 433,\n",
       "                                                         466, 500]},\n",
       "                   random_state=42)"
      ]
     },
     "execution_count": 32,
     "metadata": {},
     "output_type": "execute_result"
    }
   ],
   "source": [
    "rf = RandomForestRegressor(random_state=42)\n",
    "\n",
    "# Random Search\n",
    "rf_random = RandomizedSearchCV(estimator = rf, param_distributions = random_grid, \n",
    "                               n_iter = 100, cv = 5, random_state=42, n_jobs = -1)\n",
    "\n",
    "rf_random.fit(X_train, y_train)"
   ]
  },
  {
   "cell_type": "code",
   "execution_count": 33,
   "id": "f213b6c6",
   "metadata": {},
   "outputs": [
    {
     "data": {
      "text/plain": [
       "{'n_estimators': 500,\n",
       " 'max_features': 'sqrt',\n",
       " 'max_depth': 10,\n",
       " 'bootstrap': True}"
      ]
     },
     "execution_count": 33,
     "metadata": {},
     "output_type": "execute_result"
    }
   ],
   "source": [
    "# melhores hiperparametros\n",
    "\n",
    "rf_random.best_params_"
   ]
  },
  {
   "cell_type": "code",
   "execution_count": 34,
   "id": "dde531c6",
   "metadata": {},
   "outputs": [
    {
     "data": {
      "text/plain": [
       "RandomForestRegressor(max_depth=10, max_features='sqrt', n_estimators=500,\n",
       "                      random_state=42)"
      ]
     },
     "execution_count": 34,
     "metadata": {},
     "output_type": "execute_result"
    }
   ],
   "source": [
    "best_random = rf_random.best_estimator_\n",
    "best_random"
   ]
  },
  {
   "cell_type": "code",
   "execution_count": 35,
   "id": "e4770bc9",
   "metadata": {},
   "outputs": [],
   "source": [
    "y_pred_best_model = best_random.predict(X_test)"
   ]
  },
  {
   "cell_type": "code",
   "execution_count": 37,
   "id": "a140e770",
   "metadata": {
    "scrolled": true
   },
   "outputs": [
    {
     "name": "stdout",
     "output_type": "stream",
     "text": [
      "Mean Absolute Error: 167.29340042012427\n",
      "RMSE: 417.3658363602894\n"
     ]
    }
   ],
   "source": [
    "print('Mean Absolute Error:', mean_absolute_error(y_test, y_pred_best_model))\n",
    "print('RMSE:', sqrt(mean_squared_error(y_test, y_pred_best_model)))"
   ]
  },
  {
   "cell_type": "markdown",
   "id": "a19ff294",
   "metadata": {},
   "source": [
    "Podemos notar agora que o valor do MAE é menor que o encontrando com a primeira modelagem por regressão múltipla, enquando que o RMSE é o mesmo. Nos gráficos a seguir esse comparação pode ser visualizada melhor."
   ]
  },
  {
   "cell_type": "code",
   "execution_count": 39,
   "id": "9a6bb952",
   "metadata": {},
   "outputs": [
    {
     "data": {
      "text/plain": [
       "Text(0.5, 1.0, 'MAE')"
      ]
     },
     "execution_count": 39,
     "metadata": {},
     "output_type": "execute_result"
    },
    {
     "data": {
      "image/png": "[encoded data removed]",
      "text/plain": [
       "<Figure size 554.4x554.4 with 1 Axes>"
      ]
     },
     "metadata": {},
     "output_type": "display_data"
    }
   ],
   "source": [
    "df_model_results = pd.DataFrame([])\n",
    "df_model_results['models'] = [\"LinearRegression\", \"RandomForest\", \"RandomForestOtimizado\"]\n",
    "\n",
    "df_model_results['MAE'] = [mean_absolute_error(y_test, y_pred), \n",
    "                           mean_absolute_error(y_test, y_pred_rf),\n",
    "                           mean_absolute_error(y_test, y_pred_best_model)]\n",
    "\n",
    "df_model_results['RMSE'] = [sqrt(mean_squared_error(y_test, y_pred)),\n",
    "                            sqrt(mean_squared_error(y_test, y_pred_rf)),\n",
    "                            sqrt(mean_squared_error(y_test, y_pred_best_model))]\n",
    "\n",
    "sns.barplot(x='models', y='MAE', data=df_model_results, color='green')\n",
    "plt.title(\"MAE\")"
   ]
  },
  {
   "cell_type": "code",
   "execution_count": 40,
   "id": "9177ae70",
   "metadata": {},
   "outputs": [
    {
     "data": {
      "text/plain": [
       "Text(0.5, 1.0, 'RMSE')"
      ]
     },
     "execution_count": 40,
     "metadata": {},
     "output_type": "execute_result"
    },
    {
     "data": {
      "image/png": "[encoded data removed]",
      "text/plain": [
       "<Figure size 554.4x554.4 with 1 Axes>"
      ]
     },
     "metadata": {},
     "output_type": "display_data"
    }
   ],
   "source": [
    "sns.barplot(x='models', y='RMSE', data=df_model_results, color='green')\n",
    "plt.title(\"RMSE\")"
   ]
  },
  {
   "cell_type": "markdown",
   "id": "7a567f63",
   "metadata": {},
   "source": [
    "Entre as três modelagens realizadas, pode-se concluir que a última (RandomForestOtimizado) é a que melhor prediz os preços, seguida pelo modelo de regressão múltipla. Entrentando, o modelo RandomForestOtimizado é o mais custoso computacionalmente."
   ]
  },
  {
   "cell_type": "code",
   "execution_count": 41,
   "id": "26b6bbcb",
   "metadata": {},
   "outputs": [
    {
     "data": {
      "text/html": [
       "<div>\n",
       "<style scoped>\n",
       "    .dataframe tbody tr th:only-of-type {\n",
       "        vertical-align: middle;\n",
       "    }\n",
       "\n",
       "    .dataframe tbody tr th {\n",
       "        vertical-align: top;\n",
       "    }\n",
       "\n",
       "    .dataframe thead th {\n",
       "        text-align: right;\n",
       "    }\n",
       "</style>\n",
       "<table border=\"1\" class=\"dataframe\">\n",
       "  <thead>\n",
       "    <tr style=\"text-align: right;\">\n",
       "      <th></th>\n",
       "      <th>models</th>\n",
       "      <th>MAE</th>\n",
       "      <th>RMSE</th>\n",
       "    </tr>\n",
       "  </thead>\n",
       "  <tbody>\n",
       "    <tr>\n",
       "      <th>2</th>\n",
       "      <td>RandomForestOtimizado</td>\n",
       "      <td>167.2934</td>\n",
       "      <td>417.365836</td>\n",
       "    </tr>\n",
       "  </tbody>\n",
       "</table>\n",
       "</div>"
      ],
      "text/plain": [
       "                  models       MAE        RMSE\n",
       "2  RandomForestOtimizado  167.2934  417.365836"
      ]
     },
     "execution_count": 41,
     "metadata": {},
     "output_type": "execute_result"
    }
   ],
   "source": [
    "# Comparação do menor MAE com o preço médio dos imóveis\n",
    "\n",
    "df_model_results[df_model_results.MAE == df_model_results.MAE.min()]"
   ]
  },
  {
   "cell_type": "code",
   "execution_count": 42,
   "id": "15bdfc13",
   "metadata": {},
   "outputs": [
    {
     "data": {
      "text/plain": [
       "353.166506586169"
      ]
     },
     "execution_count": 42,
     "metadata": {},
     "output_type": "execute_result"
    }
   ],
   "source": [
    "df_wo_outliers['price_new'].mean()"
   ]
  },
  {
   "cell_type": "markdown",
   "id": "5433f9d9",
   "metadata": {},
   "source": [
    "O melhor modelo obtido apresenta um erro absoluto de ~47% o preço médio dos imóveis. \n",
    "Esse erro é alto e não indico que o modelo da forma que está seja usado em produção.\n",
    "Esse resultado precisa ser melhorado e outras técnicas podem ser estudadas. Abaixo discutirei algumas técnicas adicionais que podem ser usadas para diminuir o erro do modelo."
   ]
  },
  {
   "cell_type": "markdown",
   "id": "ed40d5ef",
   "metadata": {},
   "source": [
    "* Separar o dataset em Zonas Sul / Norte / Oeste e Centro: pela análise exploratória ficou evidente que nos bairros localizados em zonas mais nobres e próximas de pontos turísticos o preço das acomodações, em geral, são mais elevados.  \n",
    "\n",
    "* Levar em consideração a feature amenities: Esta feature contém itens na acomodação, como ar condicionado, presença de elevadores e etc, que podem influenciar na preço da acomodação.  \n",
    "\n",
    "* Tratamento de dados faltantes: Preencher dados faltantes a partir de estratégias como obtenção de médias ou prever esses dados a partir de outras features.   \n",
    "\n"
   ]
  },
  {
   "cell_type": "markdown",
   "id": "9392aa02",
   "metadata": {},
   "source": [
    "Lazypredict é uma biblioteca que testa os principais modelos do sklearn sem otimização de hiperparametros. É interessante para entendermos quais tipos de modelos performam melhor com os nossos dados. \n",
    "\n"
   ]
  },
  {
   "cell_type": "code",
   "execution_count": 19,
   "id": "9428b862",
   "metadata": {},
   "outputs": [
    {
     "name": "stderr",
     "output_type": "stream",
     "text": [
      "100%|██████████| 42/42 [03:16<00:00,  4.68s/it]"
     ]
    },
    {
     "name": "stdout",
     "output_type": "stream",
     "text": [
      "                               Adjusted R-Squared  R-Squared     RMSE  \\\n",
      "Model                                                                   \n",
      "PoissonRegressor                             0.39       0.39   387.19   \n",
      "MLPRegressor                                 0.33       0.33   406.05   \n",
      "ExtraTreesRegressor                          0.32       0.32   408.92   \n",
      "HistGradientBoostingRegressor                0.32       0.32   408.95   \n",
      "GradientBoostingRegressor                    0.32       0.32   409.11   \n",
      "LGBMRegressor                                0.31       0.31   412.13   \n",
      "LassoLarsIC                                  0.30       0.30   414.85   \n",
      "Lasso                                        0.30       0.30   414.86   \n",
      "LassoCV                                      0.30       0.30   415.03   \n",
      "TransformedTargetRegressor                   0.30       0.30   415.09   \n",
      "Lars                                         0.30       0.30   415.09   \n",
      "LinearRegression                             0.30       0.30   415.09   \n",
      "Ridge                                        0.30       0.30   415.09   \n",
      "RidgeCV                                      0.30       0.30   415.09   \n",
      "LassoLarsCV                                  0.30       0.30   415.09   \n",
      "LarsCV                                       0.30       0.30   415.09   \n",
      "BayesianRidge                                0.30       0.30   415.11   \n",
      "OrthogonalMatchingPursuitCV                  0.29       0.30   415.67   \n",
      "RandomForestRegressor                        0.29       0.30   415.74   \n",
      "ElasticNetCV                                 0.29       0.29   417.95   \n",
      "XGBRegressor                                 0.28       0.29   419.37   \n",
      "BaggingRegressor                             0.28       0.28   421.12   \n",
      "ElasticNet                                   0.27       0.27   422.99   \n",
      "KNeighborsRegressor                          0.25       0.25   428.81   \n",
      "GeneralizedLinearRegressor                   0.24       0.25   430.02   \n",
      "TweedieRegressor                             0.24       0.25   430.02   \n",
      "OrthogonalMatchingPursuit                    0.24       0.25   430.99   \n",
      "HuberRegressor                               0.24       0.25   431.16   \n",
      "LinearSVR                                    0.23       0.23   434.78   \n",
      "PassiveAggressiveRegressor                   0.22       0.22   437.07   \n",
      "LassoLars                                    0.17       0.18   450.62   \n",
      "RANSACRegressor                              0.07       0.08   476.99   \n",
      "NuSVR                                        0.07       0.07   477.52   \n",
      "DecisionTreeRegressor                        0.07       0.07   477.57   \n",
      "SVR                                          0.05       0.06   481.07   \n",
      "GammaRegressor                               0.02       0.03   488.65   \n",
      "DummyRegressor                              -0.01      -0.00   496.23   \n",
      "KernelRidge                                 -0.22      -0.22   547.12   \n",
      "ExtraTreeRegressor                          -0.25      -0.24   552.75   \n",
      "AdaBoostRegressor                           -0.91      -0.90   683.59   \n",
      "SGDRegressor                              -385.30    -383.18  9726.34   \n",
      "GaussianProcessRegressor                 -3482.36   -3463.24 29207.01   \n",
      "\n",
      "                               Time Taken  \n",
      "Model                                      \n",
      "PoissonRegressor                     0.24  \n",
      "MLPRegressor                        25.65  \n",
      "ExtraTreesRegressor                  4.73  \n",
      "HistGradientBoostingRegressor        1.47  \n",
      "GradientBoostingRegressor            1.59  \n",
      "LGBMRegressor                        0.29  \n",
      "LassoLarsIC                          0.06  \n",
      "Lasso                                0.14  \n",
      "LassoCV                              0.43  \n",
      "TransformedTargetRegressor           0.05  \n",
      "Lars                                 0.13  \n",
      "LinearRegression                     0.16  \n",
      "Ridge                                0.04  \n",
      "RidgeCV                              0.09  \n",
      "LassoLarsCV                          0.21  \n",
      "LarsCV                               0.22  \n",
      "BayesianRidge                        0.13  \n",
      "OrthogonalMatchingPursuitCV          0.10  \n",
      "RandomForestRegressor                5.92  \n",
      "ElasticNetCV                         0.48  \n",
      "XGBRegressor                         1.25  \n",
      "BaggingRegressor                     0.67  \n",
      "ElasticNet                           0.08  \n",
      "KNeighborsRegressor                  1.17  \n",
      "GeneralizedLinearRegressor           0.16  \n",
      "TweedieRegressor                     0.10  \n",
      "OrthogonalMatchingPursuit            0.04  \n",
      "HuberRegressor                       0.32  \n",
      "LinearSVR                            0.21  \n",
      "PassiveAggressiveRegressor           0.14  \n",
      "LassoLars                            0.08  \n",
      "RANSACRegressor                      0.41  \n",
      "NuSVR                               10.58  \n",
      "DecisionTreeRegressor                0.20  \n",
      "SVR                                 12.37  \n",
      "GammaRegressor                       0.08  \n",
      "DummyRegressor                       0.03  \n",
      "KernelRidge                         24.77  \n",
      "ExtraTreeRegressor                   0.16  \n",
      "AdaBoostRegressor                    0.82  \n",
      "SGDRegressor                         0.10  \n",
      "GaussianProcessRegressor           100.51  \n"
     ]
    },
    {
     "name": "stderr",
     "output_type": "stream",
     "text": [
      "\n"
     ]
    }
   ],
   "source": [
    "from lazypredict.Supervised import LazyRegressor\n",
    "from sklearn.utils import shuffle\n",
    "import numpy as np\n",
    "\n",
    "reg = LazyRegressor(verbose=0, ignore_warnings=False, custom_metric=None)\n",
    "models, predictions = reg.fit(X_train_sc, X_test_sc, y_train, y_test)\n",
    "\n",
    "print(models)"
   ]
  },
  {
   "cell_type": "markdown",
   "id": "080df39d",
   "metadata": {},
   "source": [
    "Podemos observar que vários modelos apresentam valores de RMSE menores que os encontrados com as modelagens realizadas anteriormente, indicando serem bons candidatos para futuras predições. É importante ressaltar que não foi feita uma otimização dos hiperparâmetros (Lazypredict não faz essa tarefa), indicando que esses resultados ainda podem ser melhorados."
   ]
  },
  {
   "cell_type": "markdown",
   "id": "1ad48c9f",
   "metadata": {},
   "source": [
    "Após o teste do Lazypredict, é interessante rodar também a biblioteca auto-sklearn. \n",
    "Auto-sklearn é uma biblioteca de auto-ml que testa diferentes formas de pré-processamento e otimização de hiperparametros. Por falta de tempo não adicionarei a parte do auto-ml nesse case. É usual que os testes com auto-ML levem alguns dias, por causa dos inúmeros testes de hiperparâmetros e pré-processamentos que precisarão ser testados."
   ]
  },
  {
   "cell_type": "code",
   "execution_count": null,
   "id": "5874c361",
   "metadata": {},
   "outputs": [],
   "source": []
  }
 ],
 "metadata": {
  "kernelspec": {
   "display_name": "Python 3",
   "language": "python",
   "name": "python3"
  },
  "language_info": {
   "codemirror_mode": {
    "name": "ipython",
    "version": 3
   },
   "file_extension": ".py",
   "mimetype": "text/x-python",
   "name": "python",
   "nbconvert_exporter": "python",
   "pygments_lexer": "ipython3",
   "version": "3.6.9"
  }
 },
 "nbformat": 4,
 "nbformat_minor": 5
}
